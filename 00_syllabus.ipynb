{
  "nbformat": 4,
  "nbformat_minor": 0,
  "metadata": {
    "colab": {
      "name": "00_syllabus.ipynb",
      "provenance": [],
      "authorship_tag": "ABX9TyOoqRDlhUau0Mt2jHG4C8dX",
      "include_colab_link": true
    },
    "kernelspec": {
      "name": "python3",
      "display_name": "Python 3"
    }
  },
  "cells": [
    {
      "cell_type": "markdown",
      "metadata": {
        "id": "view-in-github",
        "colab_type": "text"
      },
      "source": [
        "<a href=\"https://colab.research.google.com/github/htapia/damia/blob/master/00_syllabus.ipynb\" target=\"_parent\"><img src=\"https://colab.research.google.com/assets/colab-badge.svg\" alt=\"Open In Colab\"/></a>"
      ]
    },
    {
      "cell_type": "code",
      "metadata": {
        "id": "aQPEkd6rwI-X",
        "colab_type": "code",
        "colab": {}
      },
      "source": [
        "from nbdev import *\n",
        "%nbdev_default_export 00_introduction"
      ],
      "execution_count": null,
      "outputs": []
    },
    {
      "cell_type": "markdown",
      "metadata": {
        "id": "WdRHN-jf-Lxt",
        "colab_type": "text"
      },
      "source": [
        "# Data Analysis\n",
        "MIA UV, 2020-2021\n",
        "\n",
        "Horacio Tapia-McClung\n",
        "\n",
        "htapia@uv.mx"
      ]
    },
    {
      "cell_type": "markdown",
      "metadata": {
        "id": "ST7094SWwWfV",
        "colab_type": "text"
      },
      "source": [
        "# Introduccion\n",
        "Este curso de Analisis de Datos es una introduccion a la Ciencia de Datos desde una perspectiva actual basada en la resolucion de problemas.\n",
        "\n",
        "En este curso aprenderemos el flujo general de un proyecto de ciencia de datos utilizando tecnologias,  problemas y datos recientes."
      ]
    },
    {
      "cell_type": "markdown",
      "metadata": {
        "id": "EIkUu6dX-0Qo",
        "colab_type": "text"
      },
      "source": [
        "# Temario del curso\n",
        "\n",
        "1. [Introducción](https://htapia.github.io/DA_MIA2020/Reto-DCI4/#)\n",
        "2. [Analisis Exploratorio de Datos](https://htapia.github.io/RetoDCI4/Reto-DCI4-a/#)\n",
        "3. Procesamiento de Datos\n",
        "4. Modelos Predictivos y ML\n",
        "5. Proyecto Final"
      ]
    },
    {
      "cell_type": "markdown",
      "metadata": {
        "id": "4LewvA1J-6P7",
        "colab_type": "text"
      },
      "source": [
        "# Evaluacion\n",
        "\n",
        "El curso sera evaluado por medio de tareas y proyectos asignados dentro de cada tema y un proyecto final integrador que demuestre la adquisicion y entendimiento del flujo general de ciencia de datos.\n",
        "\n",
        "> Cada grupo de tareas y proyecto por tema tendra un valor de 1/4\\*60/100 de la calificacion final mientras que el proyecto final tendra una calificacion de 2/5. \n",
        "\n",
        "> Para tomar en cuenta la calificacion de tareas y proyectos por tema es necesario entregar el proyecto final."
      ]
    },
    {
      "cell_type": "markdown",
      "metadata": {
        "id": "9yta6TLY_h_J",
        "colab_type": "text"
      },
      "source": [
        "# Requisitos\n",
        "\n",
        "Para poder realizar este curso se requiere\n",
        "\n",
        "* computadora con conectividad a internet\n",
        "* conocimiento de programacion\n",
        "* conocimientos basicos de:\n",
        " * estadistica y probabilidad\n",
        " * calculo y \n",
        " * algebra lineal"
      ]
    },
    {
      "cell_type": "markdown",
      "metadata": {
        "id": "QlSUThre_NLT",
        "colab_type": "text"
      },
      "source": [
        "## Informacion adicional\n",
        "\n",
        "Ya que el objetivo del curso es conocer el flujo de trabajo de un proyecto de ciencia de datos y se centra en el proesamiento y analisis de bases de datos, se requiere conocimiento general de programacion sin importar el lenguaje. \n",
        "\n",
        "El material sera presentado utilizando un lenguaje de programacion de alto nivel que permite abstraer conceptos como uso y reuso de memoria, implementacion de clases, etc. \n",
        "\n",
        "Siendo el enfoque en aprender a contar una historia a partir del analisis de datos, no hay una preferencia por el lenguaje empleado por cada participante sin embargo tampoco puede darse una tutoria en programacion."
      ]
    },
    {
      "cell_type": "markdown",
      "metadata": {
        "id": "PWmzKB3h_7Dk",
        "colab_type": "text"
      },
      "source": [
        "# Recursos bibliograficos y en linea\n",
        "\n",
        "Por la naturaleza practica y aplicada del curso, no sera requerido ningun libro de texto en particular, sin embargo existen muchos textos que pueden servir de apoyo y complemento al contenido del curso. A continuacion se enlistan algunos titulos"
      ]
    }
  ]
}